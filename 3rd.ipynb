{
  "nbformat": 4,
  "nbformat_minor": 0,
  "metadata": {
    "colab": {
      "provenance": [],
      "authorship_tag": "ABX9TyN/r9aJ9lu1bcaD45yJqdQh",
      "include_colab_link": true
    },
    "kernelspec": {
      "name": "python3",
      "display_name": "Python 3"
    },
    "language_info": {
      "name": "python"
    }
  },
  "cells": [
    {
      "cell_type": "markdown",
      "metadata": {
        "id": "view-in-github",
        "colab_type": "text"
      },
      "source": [
        "<a href=\"https://colab.research.google.com/github/latecomer04/dl_codes/blob/main/3rd.ipynb\" target=\"_parent\"><img src=\"https://colab.research.google.com/assets/colab-badge.svg\" alt=\"Open In Colab\"/></a>"
      ]
    },
    {
      "cell_type": "code",
      "execution_count": null,
      "metadata": {
        "colab": {
          "base_uri": "https://localhost:8080/",
          "height": 54
        },
        "id": "pHx6IrOWPLe6",
        "outputId": "8b88d317-7656-48a5-b5c8-24548e9c3914"
      },
      "outputs": [
        {
          "output_type": "execute_result",
          "data": {
            "text/plain": [
              "'Build the Image classification model by dividing the model into following 4 stages:\\n a. Loading and pre-processing the image data\\n b. Defining the model’s architecture\\n c. Training the model\\n d. Estimating the model’s performance'"
            ],
            "application/vnd.google.colaboratory.intrinsic+json": {
              "type": "string"
            }
          },
          "metadata": {},
          "execution_count": 1
        }
      ],
      "source": [
        "'''Build the Image classification model by dividing the model into following 4 stages:\n",
        " a. Loading and pre-processing the image data\n",
        " b. Defining the model’s architecture\n",
        " c. Training the model\n",
        " d. Estimating the model’s performance'''"
      ]
    },
    {
      "cell_type": "code",
      "source": [
        "#import the required libraries\n",
        "\n",
        "import tensorflow as tf\n",
        "from tensorflow import keras\n",
        "import numpy as np\n",
        "import matplotlib.pyplot as plt\n"
      ],
      "metadata": {
        "id": "BuASXoQaPc2A"
      },
      "execution_count": 1,
      "outputs": []
    },
    {
      "cell_type": "code",
      "source": [
        "# 1->  load and pre-process the data\n",
        "\n",
        "mnist=tf.keras.datasets.mnist\n",
        "(x_train,y_train),(x_test,y_test)=mnist.load_data()\n",
        "input_shape=(28,28,1)\n",
        "#print(x_train.shape)\n",
        "\n",
        "x_train=x_train.reshape(x_train.shape[0],28,28,1);\n",
        "x_test=x_test.reshape(x_test.shape[0],28,28,1)\n",
        "#print(x_train.shape)\n",
        "\n",
        "x_train=(x_train-0.0)/(255.0-0.0)\n",
        "x_test=(x_test-0.0)/(255-0.0)\n",
        "\n",
        "#print(x_train[0].max())\n",
        "#print(x_test[0].min())\n",
        "\n",
        "#print(x_train.shape)\n",
        "#print(x_test.shape)"
      ],
      "metadata": {
        "id": "xd5TsQOqPsjo",
        "colab": {
          "base_uri": "https://localhost:8080/"
        },
        "outputId": "7cdd0f51-7b08-459a-a047-c8a7e892d02e"
      },
      "execution_count": 2,
      "outputs": [
        {
          "output_type": "stream",
          "name": "stdout",
          "text": [
            "Downloading data from https://storage.googleapis.com/tensorflow/tf-keras-datasets/mnist.npz\n",
            "11490434/11490434 [==============================] - 0s 0us/step\n"
          ]
        }
      ]
    },
    {
      "cell_type": "code",
      "source": [
        "#- Defining the model’s architecture\n",
        "\n",
        "#model=Sequential()\n",
        "#model.add(Conv2D(28,kernel_size=(3,3),input_shape=(28,28,1)))\n",
        "#model.add(MaxPooling2D(pool_size=2))\n",
        "#model.add(Flatten())\n",
        "#model.add(Dense(200,activation=\"relu\"))\n",
        "#model.add(Dropout(.3))\n",
        "#model.add(Dense(10,activation=\"softmax\"));\n",
        "\n",
        "model=keras.Sequential([\n",
        "    keras.layers.Conv2D(28,kernel_size=(3,3),input_shape=(28,28,1)),\n",
        "    keras.layers.MaxPool2D(pool_size=2),\n",
        "    keras.layers.Flatten(input_shape=(28,28)),\n",
        "    keras.layers.Dense(128,activation='relu'),\n",
        "    keras.layers.Dropout(0.3),\n",
        "    keras.layers.Dense(10,activation='softmax')\n",
        "])\n",
        "model.summary()\n"
      ],
      "metadata": {
        "colab": {
          "base_uri": "https://localhost:8080/"
        },
        "id": "knWbJreXlqzo",
        "outputId": "eb17a358-b1f0-411b-daea-8bb76c99ec2d"
      },
      "execution_count": 3,
      "outputs": [
        {
          "output_type": "stream",
          "name": "stdout",
          "text": [
            "Model: \"sequential\"\n",
            "_________________________________________________________________\n",
            " Layer (type)                Output Shape              Param #   \n",
            "=================================================================\n",
            " conv2d (Conv2D)             (None, 26, 26, 28)        280       \n",
            "                                                                 \n",
            " max_pooling2d (MaxPooling2D  (None, 13, 13, 28)       0         \n",
            " )                                                               \n",
            "                                                                 \n",
            " flatten (Flatten)           (None, 4732)              0         \n",
            "                                                                 \n",
            " dense (Dense)               (None, 128)               605824    \n",
            "                                                                 \n",
            " dropout (Dropout)           (None, 128)               0         \n",
            "                                                                 \n",
            " dense_1 (Dense)             (None, 10)                1290      \n",
            "                                                                 \n",
            "=================================================================\n",
            "Total params: 607,394\n",
            "Trainable params: 607,394\n",
            "Non-trainable params: 0\n",
            "_________________________________________________________________\n"
          ]
        }
      ]
    },
    {
      "cell_type": "code",
      "source": [
        "# 3- training the model\n",
        "model.compile(\n",
        "    optimizer=\"adam\",\n",
        "    loss=\"sparse_categorical_crossentropy\",\n",
        "    metrics=['accuracy']\n",
        ")\n",
        "\n",
        "history=model.fit(x_train,y_train,epochs=2)"
      ],
      "metadata": {
        "colab": {
          "base_uri": "https://localhost:8080/"
        },
        "id": "HJXbvDFkpDoX",
        "outputId": "de2db0c7-7e81-4cf4-bac8-7ca7c46f4627"
      },
      "execution_count": 4,
      "outputs": [
        {
          "output_type": "stream",
          "name": "stdout",
          "text": [
            "Epoch 1/2\n",
            "1875/1875 [==============================] - 37s 19ms/step - loss: 0.2406 - accuracy: 0.9276\n",
            "Epoch 2/2\n",
            "1875/1875 [==============================] - 36s 19ms/step - loss: 0.1011 - accuracy: 0.9689\n"
          ]
        }
      ]
    },
    {
      "cell_type": "code",
      "source": [
        "history.history.keys()"
      ],
      "metadata": {
        "colab": {
          "base_uri": "https://localhost:8080/"
        },
        "id": "Fp4jGVwiiLJi",
        "outputId": "5293008d-abee-49cb-ad2d-edb05c98b3dd"
      },
      "execution_count": 5,
      "outputs": [
        {
          "output_type": "execute_result",
          "data": {
            "text/plain": [
              "dict_keys(['loss', 'accuracy'])"
            ]
          },
          "metadata": {},
          "execution_count": 5
        }
      ]
    },
    {
      "cell_type": "code",
      "source": [
        "plt.plot(history.history['loss'])\n",
        "plt.plot(history.history['accuracy'])"
      ],
      "metadata": {
        "colab": {
          "base_uri": "https://localhost:8080/",
          "height": 285
        },
        "id": "njnOusq5iPUU",
        "outputId": "c9231abe-bd62-4067-e014-5098589afa52"
      },
      "execution_count": 6,
      "outputs": [
        {
          "output_type": "execute_result",
          "data": {
            "text/plain": [
              "[<matplotlib.lines.Line2D at 0x7f1770d6db90>]"
            ]
          },
          "metadata": {},
          "execution_count": 6
        },
        {
          "output_type": "display_data",
          "data": {
            "text/plain": [
              "<Figure size 432x288 with 1 Axes>"
            ],
            "image/png": "[encoded data removed]"
          },
          "metadata": {
            "needs_background": "light"
          }
        }
      ]
    },
    {
      "cell_type": "code",
      "source": [
        "# 4 -estimating the model\n",
        "test_loss,test_acc=model.evaluate(x_test,y_test)\n",
        "print(\"test_loss \",test_loss);\n",
        "print(\"Test_acc \",test_acc)\n",
        "\n",
        "\n",
        "image=x_train[1]\n",
        "plt.imshow(np.squeeze(image),cmap='gray')\n",
        "plt.show()\n",
        "\n",
        "image=image.reshape(1,image.shape[0],image.shape[1],image.shape[2])\n",
        "predict_model=model.predict([image])\n",
        "np.argmax(predict_model)"
      ],
      "metadata": {
        "colab": {
          "base_uri": "https://localhost:8080/",
          "height": 352
        },
        "id": "2kCPRNqZqoAb",
        "outputId": "06be9941-2d58-4d41-e014-077ed8e8e11c"
      },
      "execution_count": null,
      "outputs": [
        {
          "output_type": "stream",
          "name": "stdout",
          "text": [
            "313/313 [==============================] - 2s 7ms/step - loss: 0.0673 - accuracy: 0.9786\n",
            "test_loss  0.06734150648117065\n",
            "Test_acc  0.978600025177002\n"
          ]
        },
        {
          "output_type": "display_data",
          "data": {
            "text/plain": [
              "<Figure size 432x288 with 1 Axes>"
            ],
            "image/png": "[encoded data removed]"
          },
          "metadata": {
            "needs_background": "light"
          }
        },
        {
          "output_type": "stream",
          "name": "stdout",
          "text": [
            "1/1 [==============================] - 0s 19ms/step\n"
          ]
        },
        {
          "output_type": "execute_result",
          "data": {
            "text/plain": [
              "0"
            ]
          },
          "metadata": {},
          "execution_count": 17
        }
      ]
    }
  ]
}