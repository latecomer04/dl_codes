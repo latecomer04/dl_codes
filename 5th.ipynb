{
  "nbformat": 4,
  "nbformat_minor": 0,
  "metadata": {
    "colab": {
      "provenance": [],
      "authorship_tag": "ABX9TyOsaOkKQCHjcJLCygEdv2sm",
      "include_colab_link": true
    },
    "kernelspec": {
      "name": "python3",
      "display_name": "Python 3"
    },
    "language_info": {
      "name": "python"
    }
  },
  "cells": [
    {
      "cell_type": "markdown",
      "metadata": {
        "id": "view-in-github",
        "colab_type": "text"
      },
      "source": [
        "<a href=\"https://colab.research.google.com/github/latecomer04/dl_codes/blob/main/5th.ipynb\" target=\"_parent\"><img src=\"https://colab.research.google.com/assets/colab-badge.svg\" alt=\"Open In Colab\"/></a>"
      ]
    },
    {
      "cell_type": "code",
      "execution_count": null,
      "metadata": {
        "colab": {
          "base_uri": "https://localhost:8080/",
          "height": 36
        },
        "id": "I_TaFJ7Ctkez",
        "outputId": "1c955af1-d085-4999-b775-5eb7e6ebe22b"
      },
      "outputs": [
        {
          "output_type": "execute_result",
          "data": {
            "text/plain": [
              "'\\nImplement the Continuous Bag of Words (CBOW) Model. Stages can be:\\na. Data preparation\\nb. Generate training data\\nc. Train model\\nd. Output\\n\\n'"
            ],
            "application/vnd.google.colaboratory.intrinsic+json": {
              "type": "string"
            }
          },
          "metadata": {},
          "execution_count": 1
        }
      ],
      "source": [
        "'''\n",
        "Implement the Continuous Bag of Words (CBOW) Model. Stages can be:\n",
        "a. Data preparation\n",
        "b. Generate training data\n",
        "c. Train model\n",
        "d. Output\n",
        "\n",
        "'''"
      ]
    },
    {
      "cell_type": "code",
      "source": [
        "#import libraries\n",
        "\n",
        "import gensim"
      ],
      "metadata": {
        "id": "b7svkGDwt_Kq"
      },
      "execution_count": 2,
      "outputs": []
    },
    {
      "cell_type": "code",
      "source": [
        "#data preparation\n",
        "sentences = \"\"\"we are about to study the idea of a computational process.\n",
        "\n",
        "Computational processes are abstract beings that inhabit computers. \n",
        "As they evolve, processes manipulate other abstract things called data. The evolution of a process is directed by a pattern of rules called a program. People create programs to direct processes. \n",
        "In effect, we conjure the spirits of the computer with our spells\"\"\"\n",
        "\n",
        "sentences_array=sentences.split('.')\n",
        "final_data=[]\n",
        "for sentence in sentences_array:\n",
        "  final_data.append(gensim.utils.simple_preprocess(sentence))\n",
        "  #temp=[sentence.split(' ')]\n",
        "  #final_data.append(temp)\n",
        "\n",
        "final_data"
      ],
      "metadata": {
        "id": "6IOQyQZsuF82",
        "colab": {
          "base_uri": "https://localhost:8080/"
        },
        "outputId": "b598fc73-1239-4b84-f1e4-f3a3af57a5f2"
      },
      "execution_count": 3,
      "outputs": [
        {
          "output_type": "execute_result",
          "data": {
            "text/plain": [
              "[['we',\n",
              "  'are',\n",
              "  'about',\n",
              "  'to',\n",
              "  'study',\n",
              "  'the',\n",
              "  'idea',\n",
              "  'of',\n",
              "  'computational',\n",
              "  'process'],\n",
              " ['computational',\n",
              "  'processes',\n",
              "  'are',\n",
              "  'abstract',\n",
              "  'beings',\n",
              "  'that',\n",
              "  'inhabit',\n",
              "  'computers'],\n",
              " ['as',\n",
              "  'they',\n",
              "  'evolve',\n",
              "  'processes',\n",
              "  'manipulate',\n",
              "  'other',\n",
              "  'abstract',\n",
              "  'things',\n",
              "  'called',\n",
              "  'data'],\n",
              " ['the',\n",
              "  'evolution',\n",
              "  'of',\n",
              "  'process',\n",
              "  'is',\n",
              "  'directed',\n",
              "  'by',\n",
              "  'pattern',\n",
              "  'of',\n",
              "  'rules',\n",
              "  'called',\n",
              "  'program'],\n",
              " ['people', 'create', 'programs', 'to', 'direct', 'processes'],\n",
              " ['in',\n",
              "  'effect',\n",
              "  'we',\n",
              "  'conjure',\n",
              "  'the',\n",
              "  'spirits',\n",
              "  'of',\n",
              "  'the',\n",
              "  'computer',\n",
              "  'with',\n",
              "  'our',\n",
              "  'spells']]"
            ]
          },
          "metadata": {},
          "execution_count": 3
        }
      ]
    },
    {
      "cell_type": "code",
      "source": [
        "#initialise the model\n",
        "model=gensim.models.Word2Vec(\n",
        "    #window=10,\n",
        "    min_count=2,\n",
        "    #workers=4\n",
        ")"
      ],
      "metadata": {
        "id": "R2ayHqUyynmG"
      },
      "execution_count": 4,
      "outputs": []
    },
    {
      "cell_type": "code",
      "source": [
        "#build vocab\n",
        "model.build_vocab(final_data,progress_per=50)"
      ],
      "metadata": {
        "id": "XY40pYnty_6V"
      },
      "execution_count": 5,
      "outputs": []
    },
    {
      "cell_type": "code",
      "source": [
        "#training the model\n",
        "#print(model.corpus_count)\n",
        "#print(model.epochs)\n",
        "\n",
        "model.train(final_data,total_examples=model.corpus_count,epochs=model.epochs)\n"
      ],
      "metadata": {
        "colab": {
          "base_uri": "https://localhost:8080/"
        },
        "id": "Evt56ftezPUw",
        "outputId": "03762848-2877-4210-ec13-ef03b69a54ce"
      },
      "execution_count": 6,
      "outputs": [
        {
          "output_type": "stream",
          "name": "stderr",
          "text": [
            "WARNING:gensim.models.base_any2vec:under 10 jobs per worker: consider setting a smaller `batch_words' for smoother alpha decay\n"
          ]
        },
        {
          "output_type": "execute_result",
          "data": {
            "text/plain": [
              "(14, 290)"
            ]
          },
          "metadata": {},
          "execution_count": 6
        }
      ]
    },
    {
      "cell_type": "code",
      "source": [
        "model.wv.most_similar(\"process\")"
      ],
      "metadata": {
        "colab": {
          "base_uri": "https://localhost:8080/"
        },
        "id": "c3jblY9w1HW1",
        "outputId": "b3fc4207-feaf-44fb-fbfc-05c15011d453"
      },
      "execution_count": null,
      "outputs": [
        {
          "output_type": "execute_result",
          "data": {
            "text/plain": [
              "[('the', 0.16195839643478394),\n",
              " ('abstract', 0.15925505757331848),\n",
              " ('computational', 0.07665499299764633),\n",
              " ('we', 0.07486476004123688),\n",
              " ('processes', -0.008104787208139896),\n",
              " ('are', -0.010747633874416351),\n",
              " ('of', -0.06832720339298248),\n",
              " ('to', -0.07265891134738922),\n",
              " ('called', -0.165664404630661)]"
            ]
          },
          "metadata": {},
          "execution_count": 34
        }
      ]
    }
  ]
}