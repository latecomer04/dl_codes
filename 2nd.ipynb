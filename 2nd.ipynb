{
  "nbformat": 4,
  "nbformat_minor": 0,
  "metadata": {
    "colab": {
      "provenance": [],
      "authorship_tag": "ABX9TyO3T0MQBhhhmfE6mOT/ZynU",
      "include_colab_link": true
    },
    "kernelspec": {
      "name": "python3",
      "display_name": "Python 3"
    },
    "language_info": {
      "name": "python"
    }
  },
  "cells": [
    {
      "cell_type": "markdown",
      "metadata": {
        "id": "view-in-github",
        "colab_type": "text"
      },
      "source": [
        "<a href=\"https://colab.research.google.com/github/latecomer04/dl_codes/blob/main/2nd.ipynb\" target=\"_parent\"><img src=\"https://colab.research.google.com/assets/colab-badge.svg\" alt=\"Open In Colab\"/></a>"
      ]
    },
    {
      "cell_type": "code",
      "execution_count": null,
      "metadata": {
        "colab": {
          "base_uri": "https://localhost:8080/",
          "height": 53
        },
        "id": "3VVnDvxRubSX",
        "outputId": "f97406e9-2a6a-49a6-f191-295f8b96bf53"
      },
      "outputs": [
        {
          "output_type": "execute_result",
          "data": {
            "text/plain": [
              "'\\nImplementing Feedforward neural networks with Keras and TensorFlow\\na. Import the necessary packages\\nb. Load the training and testing data (MNIST/CIFAR10)\\nc. Define the network architecture using Keras\\nd. Train the model using SGD\\ne. Evaluate the network\\nf. Plot the training loss and accuracy\\n'"
            ],
            "application/vnd.google.colaboratory.intrinsic+json": {
              "type": "string"
            }
          },
          "metadata": {},
          "execution_count": 1
        }
      ],
      "source": [
        "#problem statement\n",
        "'''\n",
        "Implementing Feedforward neural networks with Keras and TensorFlow\n",
        "a. Import the necessary packages\n",
        "b. Load the training and testing data (MNIST/CIFAR10)\n",
        "c. Define the network architecture using Keras\n",
        "d. Train the model using SGD\n",
        "e. Evaluate the network\n",
        "f. Plot the training loss and accuracy\n",
        "'''"
      ]
    },
    {
      "cell_type": "code",
      "source": [
        "#importing the files\n",
        "\n",
        "import tensorflow as tf\n",
        "from tensorflow import keras\n",
        "import matplotlib.pyplot as plt\n",
        "import random\n"
      ],
      "metadata": {
        "id": "WC1xedCUus52"
      },
      "execution_count": null,
      "outputs": []
    },
    {
      "cell_type": "code",
      "source": [
        "#loading the training and testing data (MNIST)\n",
        "mnist=tf.keras.datasets.mnist\n",
        "\n",
        "#x_train: uint8 NumPy array of grayscale image data with shapes (60000, 28, 28), containing the training data. Pixel values range from 0 to 255.\n",
        "#y_train: uint8 NumPy array of digit labels (integers in range 0-9) with shape (60000,) for the training data.\n",
        "\n",
        "(x_train,y_train),(x_test,y_test)=mnist.load_data()\n",
        "#print(x_train)\n",
        "#print(y_train)\n",
        "\n",
        "x_train=x_train/255\n",
        "x_test=x_test/255"
      ],
      "metadata": {
        "id": "MV8PhyWvvCIY"
      },
      "execution_count": null,
      "outputs": []
    },
    {
      "cell_type": "code",
      "source": [
        "# Define the network architecture using Keras\n",
        "model=keras.Sequential([\n",
        "  keras.layers.Flatten(input_shape=(28,28)),\n",
        "  keras.layers.Dense(128,activation=\"relu\"),\n",
        "  keras.layers.Dense(10,activation=\"softmax\")    \n",
        "])\n",
        "\n",
        "model.summary()"
      ],
      "metadata": {
        "colab": {
          "base_uri": "https://localhost:8080/"
        },
        "id": "Ei80MMS1x3ym",
        "outputId": "d2ca3751-996d-4df8-9a66-476047fffa8b"
      },
      "execution_count": null,
      "outputs": [
        {
          "output_type": "stream",
          "name": "stdout",
          "text": [
            "Model: \"sequential_1\"\n",
            "_________________________________________________________________\n",
            " Layer (type)                Output Shape              Param #   \n",
            "=================================================================\n",
            " flatten_1 (Flatten)         (None, 784)               0         \n",
            "                                                                 \n",
            " dense_2 (Dense)             (None, 128)               100480    \n",
            "                                                                 \n",
            " dense_3 (Dense)             (None, 10)                1290      \n",
            "                                                                 \n",
            "=================================================================\n",
            "Total params: 101,770\n",
            "Trainable params: 101,770\n",
            "Non-trainable params: 0\n",
            "_________________________________________________________________\n"
          ]
        }
      ]
    },
    {
      "cell_type": "code",
      "source": [
        "#train the model\n",
        "\n",
        "model.compile(optimizer=\"sgd\",\n",
        "  loss=\"sparse_categorical_crossentropy\",\n",
        "  metrics=['accuracy']\n",
        ")\n",
        "\n",
        "history=model.fit(x_train,y_train,validation_data=(x_test,y_test),epochs=10)\n",
        "\n",
        "#history"
      ],
      "metadata": {
        "colab": {
          "base_uri": "https://localhost:8080/"
        },
        "id": "y7WlcSFnyiyz",
        "outputId": "a3d90d2e-7af6-41fa-c7db-7af3d031c235"
      },
      "execution_count": null,
      "outputs": [
        {
          "output_type": "stream",
          "name": "stdout",
          "text": [
            "Epoch 1/10\n",
            "1875/1875 [==============================] - 4s 2ms/step - loss: 0.6404 - accuracy: 0.8402 - val_loss: 0.3562 - val_accuracy: 0.9019\n",
            "Epoch 2/10\n",
            "1875/1875 [==============================] - 4s 2ms/step - loss: 0.3371 - accuracy: 0.9058 - val_loss: 0.2929 - val_accuracy: 0.9172\n",
            "Epoch 3/10\n",
            "1875/1875 [==============================] - 4s 2ms/step - loss: 0.2889 - accuracy: 0.9185 - val_loss: 0.2613 - val_accuracy: 0.9249\n",
            "Epoch 4/10\n",
            "1875/1875 [==============================] - 3s 2ms/step - loss: 0.2591 - accuracy: 0.9267 - val_loss: 0.2406 - val_accuracy: 0.9324\n",
            "Epoch 5/10\n",
            "1875/1875 [==============================] - 3s 2ms/step - loss: 0.2361 - accuracy: 0.9334 - val_loss: 0.2199 - val_accuracy: 0.9362\n",
            "Epoch 6/10\n",
            "1875/1875 [==============================] - 4s 2ms/step - loss: 0.2174 - accuracy: 0.9394 - val_loss: 0.2054 - val_accuracy: 0.9410\n",
            "Epoch 7/10\n",
            "1875/1875 [==============================] - 3s 2ms/step - loss: 0.2014 - accuracy: 0.9431 - val_loss: 0.1917 - val_accuracy: 0.9449\n",
            "Epoch 8/10\n",
            "1875/1875 [==============================] - 3s 2ms/step - loss: 0.1880 - accuracy: 0.9472 - val_loss: 0.1822 - val_accuracy: 0.9473\n",
            "Epoch 9/10\n",
            "1875/1875 [==============================] - 3s 2ms/step - loss: 0.1765 - accuracy: 0.9507 - val_loss: 0.1719 - val_accuracy: 0.9504\n",
            "Epoch 10/10\n",
            "1875/1875 [==============================] - 3s 2ms/step - loss: 0.1662 - accuracy: 0.9533 - val_loss: 0.1632 - val_accuracy: 0.9526\n"
          ]
        }
      ]
    },
    {
      "cell_type": "code",
      "source": [
        "#evaluate\n",
        "\n",
        "test_loss,test_acc=model.evaluate(x_test,y_test);\n",
        "print(\"Loss=%.3f\"%test_loss)\n",
        "print(\"accuracy=%.3f\"%test_acc)"
      ],
      "metadata": {
        "colab": {
          "base_uri": "https://localhost:8080/"
        },
        "id": "rYUNa6XDzhXk",
        "outputId": "2245475f-7a20-4fce-dbfd-bb5c12475df9"
      },
      "execution_count": null,
      "outputs": [
        {
          "output_type": "stream",
          "name": "stdout",
          "text": [
            "313/313 [==============================] - 0s 1ms/step - loss: 0.1632 - accuracy: 0.9526\n",
            "Loss=0.163\n",
            "accuracy=0.953\n"
          ]
        }
      ]
    }
  ]
}